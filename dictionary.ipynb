{
 "cells": [
  {
   "cell_type": "code",
   "execution_count": 1,
   "metadata": {},
   "outputs": [
    {
     "name": "stdout",
     "output_type": "stream",
     "text": [
      "['King', 2009, 1000, 'Brand', 10.0, 23094, 'Novel']\n"
     ]
    }
   ],
   "source": [
    "data = ['King', 2009, 1000, 'Brand', 10.0 , 23094, 'Novel']\n",
    "print(data)"
   ]
  },
  {
   "cell_type": "markdown",
   "metadata": {},
   "source": [
    "dictionary\n",
    "- keys are always immutable and unique\n",
    "- values are mutable and can be duplicated\n",
    "- keys are case - sensitive\n",
    "- it is ordered\n"
   ]
  },
  {
   "cell_type": "code",
   "execution_count": 4,
   "metadata": {},
   "outputs": [
    {
     "name": "stdout",
     "output_type": "stream",
     "text": [
      "{'title': 'The way of kings', 'year': 2009, 'author': 'Brandson Sanderson', 'price': 1000, 'genre': 'fantasy novel', 'rating': 10.0, 'votes': 23094}\n"
     ]
    }
   ],
   "source": [
    "data = {\n",
    "    'title': 'The way of kings', \n",
    "    'year' : 2009 , \n",
    "    'author' : 'Brandson Sanderson',\n",
    "    'price' : 1000,\n",
    "    'genre' : 'fantasy novel',\n",
    "    'rating' : 10.0,\n",
    "    'votes' : 23094\n",
    "}\n",
    "print(data)"
   ]
  },
  {
   "cell_type": "code",
   "execution_count": 6,
   "metadata": {},
   "outputs": [
    {
     "name": "stdout",
     "output_type": "stream",
     "text": [
      "The way of kings\n",
      "10.0\n",
      "Brandson Sanderson\n"
     ]
    }
   ],
   "source": [
    "print(data['title'])\n",
    "print(data['rating'])\n",
    "print(data['author'])"
   ]
  },
  {
   "cell_type": "code",
   "execution_count": 7,
   "metadata": {},
   "outputs": [
    {
     "name": "stdout",
     "output_type": "stream",
     "text": [
      "None\n",
      "1000\n"
     ]
    }
   ],
   "source": [
    "# error free way\n",
    "\n",
    "print(data.get('pages'))\n",
    "print(data.get('price'))"
   ]
  },
  {
   "cell_type": "code",
   "execution_count": 8,
   "metadata": {},
   "outputs": [
    {
     "data": {
      "text/plain": [
       "dict_keys(['title', 'year', 'author', 'price', 'genre', 'rating', 'votes'])"
      ]
     },
     "execution_count": 8,
     "metadata": {},
     "output_type": "execute_result"
    }
   ],
   "source": [
    "data.keys()"
   ]
  },
  {
   "cell_type": "code",
   "execution_count": 9,
   "metadata": {},
   "outputs": [
    {
     "data": {
      "text/plain": [
       "dict_values(['The way of kings', 2009, 'Brandson Sanderson', 1000, 'fantasy novel', 10.0, 23094])"
      ]
     },
     "execution_count": 9,
     "metadata": {},
     "output_type": "execute_result"
    }
   ],
   "source": [
    "data.values()"
   ]
  },
  {
   "cell_type": "code",
   "execution_count": 10,
   "metadata": {},
   "outputs": [
    {
     "data": {
      "text/plain": [
       "dict_items([('title', 'The way of kings'), ('year', 2009), ('author', 'Brandson Sanderson'), ('price', 1000), ('genre', 'fantasy novel'), ('rating', 10.0), ('votes', 23094)])"
      ]
     },
     "execution_count": 10,
     "metadata": {},
     "output_type": "execute_result"
    }
   ],
   "source": [
    "data.items()"
   ]
  },
  {
   "cell_type": "code",
   "execution_count": 12,
   "metadata": {},
   "outputs": [
    {
     "name": "stdout",
     "output_type": "stream",
     "text": [
      "{'name': 'top gun', 'actor ': 'srk', 'year ': '2002', 'rating': '10', 'actress': 'kajol'}\n"
     ]
    }
   ],
   "source": [
    "movie = {}\n",
    "for i in range(5):\n",
    "    key = input(\"Enter the key:\")\n",
    "    value = input(\"Enter the value:\")\n",
    "    movie[key] = value\n",
    "print(movie)"
   ]
  },
  {
   "cell_type": "code",
   "execution_count": null,
   "metadata": {},
   "outputs": [],
   "source": [
    "a=1,2,3,4,5,5"
   ]
  },
  {
   "cell_type": "code",
   "execution_count": null,
   "metadata": {},
   "outputs": [],
   "source": []
  }
 ],
 "metadata": {
  "kernelspec": {
   "display_name": "base",
   "language": "python",
   "name": "python3"
  },
  "language_info": {
   "codemirror_mode": {
    "name": "ipython",
    "version": 3
   },
   "file_extension": ".py",
   "mimetype": "text/x-python",
   "name": "python",
   "nbconvert_exporter": "python",
   "pygments_lexer": "ipython3",
   "version": "3.11.5"
  }
 },
 "nbformat": 4,
 "nbformat_minor": 2
}
