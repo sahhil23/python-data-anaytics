{
 "cells": [
  {
   "cell_type": "code",
   "execution_count": 2,
   "metadata": {},
   "outputs": [
    {
     "ename": "SystemExit",
     "evalue": "",
     "output_type": "error",
     "traceback": [
      "An exception has occurred, use %tb to see the full traceback.\n",
      "\u001b[1;31mSystemExit\u001b[0m\n"
     ]
    }
   ],
   "source": [
    "import pygame\n",
    "import sys\n",
    "\n",
    "# Initialize Pygame\n",
    "pygame.init()\n",
    "\n",
    "# Set up the display\n",
    "width, height = 800, 600\n",
    "screen = pygame.display.set_mode((width, height))\n",
    "pygame.display.set_caption(\"Simple Animation\")\n",
    "\n",
    "# Set up colors\n",
    "BLACK = (0, 0, 0)\n",
    "WHITE = (255, 255, 255)\n",
    "\n",
    "# Set up the clock\n",
    "clock = pygame.time.Clock()\n",
    "\n",
    "# Set up the variables for animation\n",
    "x = width // 2\n",
    "y = height // 2\n",
    "radius = 50\n",
    "dx = 5\n",
    "dy = 5\n",
    "\n",
    "# Main game loop\n",
    "while True:\n",
    "    for event in pygame.event.get():\n",
    "        if event.type == pygame.QUIT:\n",
    "            pygame.quit()\n",
    "            sys.exit()\n",
    "\n",
    "    # Update the position of the circle\n",
    "    x += dx\n",
    "    y += dy\n",
    "\n",
    "    # Check for collision with the walls\n",
    "    if x + radius > width or x - radius < 0:\n",
    "        dx = -dx\n",
    "    if y + radius > height or y - radius < 0:\n",
    "        dy = -dy\n",
    "\n",
    "    # Fill the screen with black color\n",
    "    screen.fill(BLACK)\n",
    "\n",
    "    # Draw the circle\n",
    "    pygame.draw.circle(screen, WHITE, (x, y), radius)\n",
    "\n",
    "    # Update the display\n",
    "    pygame.display.flip()\n",
    "\n",
    "    # Cap the frame rate\n",
    "    clock.tick(60)"
   ]
  },
  {
   "cell_type": "code",
   "execution_count": null,
   "metadata": {},
   "outputs": [],
   "source": []
  }
 ],
 "metadata": {
  "kernelspec": {
   "display_name": "base",
   "language": "python",
   "name": "python3"
  },
  "language_info": {
   "codemirror_mode": {
    "name": "ipython",
    "version": 3
   },
   "file_extension": ".py",
   "mimetype": "text/x-python",
   "name": "python",
   "nbconvert_exporter": "python",
   "pygments_lexer": "ipython3",
   "version": "3.11.5"
  }
 },
 "nbformat": 4,
 "nbformat_minor": 2
}
