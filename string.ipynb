{
 "cells": [
  {
   "cell_type": "markdown",
   "metadata": {},
   "source": [
    "STRING\n",
    "- create & acces\n",
    "\n",
    "- indexing\n",
    "\n",
    "- slicing\n",
    "\n",
    "- methods"
   ]
  },
  {
   "cell_type": "code",
   "execution_count": 2,
   "metadata": {},
   "outputs": [],
   "source": [
    "a= 'apple'# single quotes\n",
    "b= \"applejuice\" # double quotes\n",
    "c= '''this is example'''# triple quotes\n"
   ]
  },
  {
   "cell_type": "markdown",
   "metadata": {},
   "source": [
    "- str is immuteable\n",
    "- str is iterable \n",
    "- ,,,,,  indexed"
   ]
  },
  {
   "cell_type": "code",
   "execution_count": 4,
   "metadata": {},
   "outputs": [
    {
     "name": "stdout",
     "output_type": "stream",
     "text": [
      "a\n",
      "p\n",
      "e\n",
      "l\n"
     ]
    }
   ],
   "source": [
    "print(a[0])\n",
    "print(a[1])\n",
    "print(a[-1])\n",
    "print(a[-2])"
   ]
  },
  {
   "cell_type": "code",
   "execution_count": 14,
   "metadata": {},
   "outputs": [
    {
     "name": "stdout",
     "output_type": "stream",
     "text": [
      "deenanath\n",
      "vijay\n",
      "vijay deenanath chauhan\n",
      "chauhan\n",
      "vjydeaahcahn\n",
      "nahuahc htananeed yajiv\n"
     ]
    }
   ],
   "source": [
    "name= \"vijay deenanath chauhan\"\n",
    "print(name[6:15])\n",
    "print(name[0:5])\n",
    "print(name[:])\n",
    "print(name[16:23])\n",
    "print(name[:23:2])\n",
    "print(name[::-1])"
   ]
  },
  {
   "cell_type": "code",
   "execution_count": 10,
   "metadata": {},
   "outputs": [
    {
     "data": {
      "text/plain": [
       "23"
      ]
     },
     "execution_count": 10,
     "metadata": {},
     "output_type": "execute_result"
    }
   ],
   "source": [
    "len(name)"
   ]
  },
  {
   "cell_type": "code",
   "execution_count": 15,
   "metadata": {},
   "outputs": [
    {
     "data": {
      "text/plain": [
       "'nahua'"
      ]
     },
     "execution_count": 15,
     "metadata": {},
     "output_type": "execute_result"
    }
   ],
   "source": [
    "name[:][::-1][:5]"
   ]
  },
  {
   "cell_type": "code",
   "execution_count": 17,
   "metadata": {},
   "outputs": [
    {
     "data": {
      "text/plain": [
       "'brucewayne'"
      ]
     },
     "execution_count": 17,
     "metadata": {},
     "output_type": "execute_result"
    }
   ],
   "source": [
    "fname =\"bruce\"\n",
    "lname =\"wayne\"\n",
    "fname+lname   #concatenation"
   ]
  },
  {
   "cell_type": "code",
   "execution_count": 20,
   "metadata": {},
   "outputs": [
    {
     "data": {
      "text/plain": [
       "' python  python  python  python  python  python  python  python  python  python  python  python  python  python  python  python  python  python  python  python '"
      ]
     },
     "execution_count": 20,
     "metadata": {},
     "output_type": "execute_result"
    }
   ],
   "source": [
    "' python ' *20 # repetition"
   ]
  },
  {
   "cell_type": "code",
   "execution_count": 21,
   "metadata": {},
   "outputs": [
    {
     "data": {
      "text/plain": [
       "'Apple'"
      ]
     },
     "execution_count": 21,
     "metadata": {},
     "output_type": "execute_result"
    }
   ],
   "source": [
    "a.capitalize()"
   ]
  },
  {
   "cell_type": "markdown",
   "metadata": {},
   "source": [
    "- FIND AND REPLCE"
   ]
  },
  {
   "cell_type": "code",
   "execution_count": 27,
   "metadata": {},
   "outputs": [
    {
     "name": "stdout",
     "output_type": "stream",
     "text": [
      "4\n",
      "-1\n",
      "5\n",
      "21\n",
      "the queen went to the jungle \n",
      "the queen went to the jungle \n"
     ]
    }
   ],
   "source": [
    "sent= 'the king went to the jungle '\n",
    "print(sent.find('king'))\n",
    "print(sent.find('queen')) # -1 IF NOT FOUND\n",
    "print(sent.find('in'))\n",
    "print(sent.find('jun'))\n",
    "\n",
    "print(sent.replace('king','queen'))\n",
    "sent2= sent.replace('king','queen')\n",
    "print(sent2)"
   ]
  },
  {
   "cell_type": "code",
   "execution_count": 28,
   "metadata": {},
   "outputs": [
    {
     "data": {
      "text/plain": [
       "'tho king wont to tho junglo '"
      ]
     },
     "execution_count": 28,
     "metadata": {},
     "output_type": "execute_result"
    }
   ],
   "source": [
    "sent.replace('e' ,'o')"
   ]
  },
  {
   "cell_type": "code",
   "execution_count": 30,
   "metadata": {},
   "outputs": [
    {
     "name": "stdout",
     "output_type": "stream",
     "text": [
      "['twikle twinkle little star ,', ' how i wonder what yuo are.']\n",
      "['twikle', 'twinkle', 'little', 'star', ',', 'how', 'i', 'wonder', 'what', 'yuo', 'are.']\n",
      "['twikle twinkle little star ', '\\n how i wonder what yuo are.']\n"
     ]
    }
   ],
   "source": [
    "poem='''twikle twinkle little star ,\n",
    " how i wonder what yuo are.'''\n",
    "print(poem.splitlines())\n",
    "print(poem.split())\n",
    "print(poem.split(','))"
   ]
  },
  {
   "cell_type": "code",
   "execution_count": 31,
   "metadata": {},
   "outputs": [
    {
     "name": "stdout",
     "output_type": "stream",
     "text": [
      "c:/home/user/docs/file.text\n"
     ]
    }
   ],
   "source": [
    "path = ['c:', 'home', 'user', 'docs', 'file.text']\n",
    "\n",
    "print(\"/\" .join(path))"
   ]
  },
  {
   "cell_type": "markdown",
   "metadata": {},
   "source": [
    "- COUNT \n",
    "\n",
    "- STARTSWITH\n",
    "\n",
    "- ENDSWITH"
   ]
  },
  {
   "cell_type": "code",
   "execution_count": 3,
   "metadata": {},
   "outputs": [
    {
     "data": {
      "text/plain": [
       "1"
      ]
     },
     "execution_count": 3,
     "metadata": {},
     "output_type": "execute_result"
    }
   ],
   "source": [
    "story= 'once upon a time .there was aking.'\n",
    "story.count('king')"
   ]
  },
  {
   "cell_type": "code",
   "execution_count": 8,
   "metadata": {},
   "outputs": [
    {
     "name": "stdout",
     "output_type": "stream",
     "text": [
      "['(Audio) WIN_20230112_21_50_01_Pro.m4a', '08_social_science_history_key_notes_ch_01_how_when_and_where.pdf', '09_maths_key_notes_ch_01_number_system.pdf', '09_maths_key_notes_ch_02_polynomials.pdf', '09_maths_key_notes_ch_03_coordinate_geometry.pdf', '09_maths_key_notes_ch_04_linear_equations_in_two_variables.pdf', '09_maths_key_notes_ch_05_introduction_to_eulids_geometry.pdf', '09_maths_key_notes_ch_06_lines_and_angles.pdf', '09_maths_key_notes_ch_07_triangles.pdf', '09_maths_key_notes_ch_08_quadrilaterals.pdf', '09_maths_key_notes_ch_09_areas_of_parallelograms_and_triangles.pdf', '09_maths_key_notes_ch_10_cirlces.pdf', '09_maths_key_notes_ch_11_constructions.pdf', '09_maths_key_notes_ch_12_herons_formula.pdf', '09_maths_key_notes_ch_14_statistics.pdf', '09_science_notes_ch01_matter_in_our_surroundings - Copy.pdf', '09_science_notes_ch02_is_matter_around_us_pure.pdf', '09_science_notes_ch03_atom_and_molecules.pdf', '09_science_notes_ch04_structure_of_atom.pdf', '09_science_notes_ch05_fundamental_unit_of_life.pdf', '09_science_notes_ch06_tissues.pdf', '09_science_notes_ch07_diversity_in_living_organisms.pdf', '09_science_notes_ch08_motion.pdf', '09_science_notes_ch09_force_and_law_of_motion.pdf', '09_science_notes_ch10_gravitation.pdf', '09_science_notes_ch11_work.pdf', '09_science_notes_ch12_sound.pdf', '09_science_notes_ch13_why_do_we_fall_ill.pdf', '09_science_notes_ch14_natural_resources.pdf', '09_science_notes_ch15_improvement_in_food_resources-signed.pdf', '09_science_notes_ch15_improvement_in_food_resources.pdf', '1-biodiversity-and-conservation.pdf', '10th Physics notes in Hindi.docx', '10th Physics notes in Hindi.pdf', '10_maths_key_notes_ch_02_polynomials.pdf', '10_maths_key_notes_ch_03_pair_of_linear_equation_in_two_variables.pdf', '10_maths_key_notes_ch_04_quadratic_equation.pdf', '10_maths_key_notes_ch_05_arithmetic_progression.pdf', '10_maths_key_notes_ch_06_triangles.pdf', '10_maths_key_notes_ch_07_coordinate_geometry.pdf', '10_maths_key_notes_ch_08_introduction_to_trigonometry.pdf', '10_maths_key_notes_ch_09_some_application_to_trigonometry.pdf', '10_maths_key_notes_ch_10_cirlces.pdf', '10_maths_key_notes_ch_11_constructions.pdf', '10_maths_key_notes_ch_12_area_related_to_circles.pdf', '10_maths_key_notes_ch_13_surface_areas_and_volumes.pdf', '10_maths_key_notes_ch_14_statistics.pdf', '10_maths_key_notes_ch_15_probability.pdf', '10_science_notes_01_Chemical_Reactions_and_Equations_1.pdf', '10_science_notes_02_Acid_Bases_and_Salts_1.pdf', '10_science_notes_03_Metals_and_Non_Metals_1.pdf', '10_science_notes_04_Carbon_and_its_compound_1.pdf', '10_science_notes_05_Periodic_Classification_of_Elements_1.pdf', '10_science_notes_07_Control_and_Coordination_1.pdf', '10_science_notes_08_How_do_Organisms_Reproduce_1.pdf', '10_science_notes_09_Heredity_and_Evolution_1.pdf', '10_science_notes_10_Light_Reflection_and_Refraction_1.pdf', '10_science_notes_11_Human_eye_and_colourful_World_1.pdf', '10_science_notes_12_Electricity_1.pdf', '10_science_notes_13_Magnetic_effects_of_Electric_Current_1.pdf', '10_science_notes_14_Sources_of_Energy_1.pdf', '10_science_notes_15_Our_Environment_1.pdf', '10_science_notes_16_Management_of_Natural_Resources_1.pdf', '128-Chaand Taare - Yes Boss 128 Kbps.mp3', '128-Desi Girl - Dostana 128 Kbps.mp3', '128-Yeh Ladka Hai Allah - Kabhi Khushi Kabhie Gham 128 Kbps.mp3', '2-eco-systems.pdf', '3-environmental-issues.pdf', '4452-Article Text-21352-1-10-20210531 (1).pdf', '4452-Article Text-21352-1-10-20210531 (2).pdf', '4452-Article Text-21352-1-10-20210531.pdf', '4winkey.exe', '5366070933_DELED_Application_FORM (1).pdf', '5366070933_DELED_Application_FORM.pdf', '879_cleanup.jpg', '9Maths 1 Number Systems.pdf', '9Maths 10 Circles (1).pdf', '9Maths 10 Circles.pdf', '9Maths 11 Constructions.pdf', '9Maths 12 Herons Formula.pdf', '9Maths 13 Surface Areas and Volumes.pdf', '9Maths 15 Probability.pdf', '9Maths 3 Coordinat Geometry.pdf', '9Maths 4 Linear Equations in Two Variables.pdf', '9Maths 5 Introduction to Euclids Geometry.pdf', '9Maths 6 Lines and Angles.pdf', '9Maths 7 Triangles.pdf', '9Maths 8 Quadrilaterals.pdf', '9Maths 9 Areas of Parallelograms and Triangles.pdf', 'ae036213fec2e5ca97e2c9314a1fc9e9 (1).pdf', 'ae036213fec2e5ca97e2c9314a1fc9e9.pdf', 'BingWallpaper (1).exe', 'BingWallpaper.exe', 'biology ch 1 good notes.pdf', 'Biology ch 10 notes.pdf', 'Biology ch 11 notes.pdf', 'Biology ch 2 notes.pdf', 'Biology ch 3 notes .pdf', 'Biology ch 4 notes.pdf', 'Biology ch 5 notes.pdf', 'Biology ch 6 notes.pdf', 'Biology ch 7 notes.pdf', 'Biology ch 8,9 notes.pdf', 'Black 3D wallpapers Black 3D background.jpg', 'bRFBueRvSTeRQbnkb1k3Qw_ac819fa396dd47e89701e527dfdd97e7_Learning-Log-Template_-Reflect-on-the-data-analysis-process.docx', 'CARTOON.jpg', 'CARTOON.png', 'chapter 1 hindi.pdf', 'ChromeSetup (1).exe', 'Chunari-Chunari(PagalWorlld.Com).mp3', 'class 9 science ch 1.pdf', 'class 9 science ch 10.pdf', 'class 9 science ch 13.pdf', 'class 9 science ch 14.pdf', 'class 9 science ch 15.pdf', 'class 9 science ch 3.pdf', 'class 9 science ch 5.pdf', 'class 9 science ch 6.pdf', 'class 9 science ch 7.pdf', 'class 9 science ch 8.pdf', 'class 9 science ch 9.pdf', 'ConfirmationPage-233510491811.pdf', 'C_ChapterWise_Notes.rar', 'dengu report.docx', 'desktop.ini', 'Git-2.43.0-64-bit (1).exe', 'Git-2.43.0-64-bit.exe', 'Guided Project Overview _transcript.txt', 'images.jpeg', 'imresizer-1679830383015.jpg', 'imresizer-1679830714964.jpg', 'InstallationLog.txt', 'jhoome-jo-pathaan-song-shah-rukh-khan-deepika-vishal-sheykhar-arijit-singh-sukriti-kumaar-svfromnet.com.mp4', 'Komal report  (1).pdf', 'Komal report .pdf', 'Komal_Gupta_2725726.pdf', 'Komal_Gupta_2725729.pdf', 'Komal_Gupta_2728000.pdf', 'krutidev-010-hindi-font-download.ttf', 'Kudmayi-(Film-Version)(PaglaSongs).mp3', 'Miniconda3-latest-Windows-x86_64.exe', 'msys2-x86_64-20230526.exe', 'MY LOGO (1).mp4', 'MY LOGO.jpg', 'MY LOGO.mp4', 'MY LOGO.png', 'Oh-Ho-Ho-Ho(PaglaSongs).mp3', 'OneDrive-2024-02-13.zip', 'passfab-for-rar (1).exe', 'passfab-for-rar.exe', 'poster.jpg', 'poster_page-0001.jpg', 'PowerShell-7.3.0-win-x64.msi', 'Python Course with Notes.zip', 'python-3.11.0rc2.exe', 'QFIX-PAYMENT-CONSOLIDATED-FEE-RECEIPT (1).pdf', 'QFIX-PAYMENT-CONSOLIDATED-FEE-RECEIPT.pdf', 'QFIX-PAYMENT-RECEIPT-SEMESTER FEE.pdf', 'SCHOLARSHIP FORM ARBAZ.pdf', 'Screenshot (105).png', 'Screenshot 2023-04-03 162510_clipdrop-background-removal.png', 'T- PARTY (1).mp4', 'T- PARTY.mp4', 'T.H.F.jpg', 'T.H.F.pdf', 'T.H.F.png', 'test (1).ipynb', 'test.ipynb', 'ThE TASTE & HUNGER FACTORY (1).zip', 'ThE TASTE & HUNGER FACTORY.pdf', 'ThE TASTE & HUNGER FACTORY.zip', 'VSCodeUserSetup-x64-1.73.0.exe', 'WhatsApp Image 2022-12-09 at 21.03.24.jpeg', 'wp4626258-pubg-classic-logo-wallpapers (1).jpg', 'wp4626258-pubg-classic-logo-wallpapers.jpg', '_Getintopc.com_Adobe_Premiere_Pro_2023_v23.0.0.63', '_Getintopc.com_Adobe_Premiere_Pro_2023_v23.0.0.63.rar', 'अध्याय 10 हिन्दी.pdf', 'अध्याय 11 हिन्दी.pdf', 'अध्याय 12 हिन्दी.pdf', 'अध्याय 13 हिन्दी.pdf', 'अध्याय 14 हिन्दी.pdf', 'अध्याय 15 हिन्दी.pdf', 'अध्याय 16 हिन्दी.pdf', 'अध्याय 3 हिन्दी.pdf', 'अध्याय 4 हिन्दी.pdf', 'अध्याय 5 हिन्दी.pdf', 'अध्याय 6 हिन्दी.pdf', 'अध्याय 7 हिन्दी.pdf', 'अध्याय 8 हिन्दी.pdf', 'अध्याय 9 हिन्दी.pdf', 'कक्षा 10 विज्ञान अम्ल क्षर और लवण नोट्स.pdf', '》अध्याय_ 12 -- जैव प्रौद्योगिकी एवं उसके उपयोग.pdf', '》अध्याय_ 13 -- जीव और समष्टियाँ.pdf']\n"
     ]
    }
   ],
   "source": [
    "import os\n",
    "content=os.listdir('C:/Users/Sahil/Downloads')\n",
    "print(content)"
   ]
  },
  {
   "cell_type": "code",
   "execution_count": 11,
   "metadata": {},
   "outputs": [
    {
     "name": "stdout",
     "output_type": "stream",
     "text": [
      "CARTOON.png\n",
      "MY LOGO.png\n",
      "Screenshot (105).png\n",
      "Screenshot 2023-04-03 162510_clipdrop-background-removal.png\n",
      "T.H.F.png\n"
     ]
    }
   ],
   "source": [
    "for items in content:\n",
    "    if items. endswith('.png'):\n",
    "        print(items)"
   ]
  },
  {
   "cell_type": "code",
   "execution_count": 16,
   "metadata": {},
   "outputs": [
    {
     "name": "stdout",
     "output_type": "stream",
     "text": [
      "chapter 1 hindi.pdf\n",
      "class 9 science ch 1.pdf\n",
      "class 9 science ch 10.pdf\n",
      "class 9 science ch 13.pdf\n",
      "class 9 science ch 14.pdf\n",
      "class 9 science ch 15.pdf\n",
      "class 9 science ch 3.pdf\n",
      "class 9 science ch 5.pdf\n",
      "class 9 science ch 6.pdf\n",
      "class 9 science ch 7.pdf\n",
      "class 9 science ch 8.pdf\n",
      "class 9 science ch 9.pdf\n"
     ]
    }
   ],
   "source": [
    "for items in content:\n",
    "    if items. startswith('c'):\n",
    "        print(items)"
   ]
  },
  {
   "cell_type": "code",
   "execution_count": 17,
   "metadata": {},
   "outputs": [
    {
     "name": "stdout",
     "output_type": "stream",
     "text": [
      "True\n"
     ]
    },
    {
     "ename": "",
     "evalue": "",
     "output_type": "error",
     "traceback": [
      "\u001b[1;31mThe Kernel crashed while executing code in the current cell or a previous cell. \n",
      "\u001b[1;31mPlease review the code in the cell(s) to identify a possible cause of the failure. \n",
      "\u001b[1;31mClick <a href='https://aka.ms/vscodeJupyterKernelCrash'>here</a> for more info. \n",
      "\u001b[1;31mView Jupyter <a href='command:jupyter.viewOutput'>log</a> for further details."
     ]
    }
   ],
   "source": [
    "word= \"exellent\"\n",
    "print(word.startswith('ex'))"
   ]
  },
  {
   "cell_type": "code",
   "execution_count": null,
   "metadata": {},
   "outputs": [],
   "source": []
  }
 ],
 "metadata": {
  "kernelspec": {
   "display_name": "base",
   "language": "python",
   "name": "python3"
  },
  "language_info": {
   "codemirror_mode": {
    "name": "ipython",
    "version": 3
   },
   "file_extension": ".py",
   "mimetype": "text/x-python",
   "name": "python",
   "nbconvert_exporter": "python",
   "pygments_lexer": "ipython3",
   "version": "3.11.5"
  }
 },
 "nbformat": 4,
 "nbformat_minor": 2
}
