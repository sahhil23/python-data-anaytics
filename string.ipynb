{
 "cells": [
  {
   "cell_type": "markdown",
   "metadata": {},
   "source": [
    "STRING\n",
    "- create & acces\n",
    "\n",
    "- indexing\n",
    "\n",
    "- slicing\n",
    "\n",
    "- methods"
   ]
  },
  {
   "cell_type": "code",
   "execution_count": 2,
   "metadata": {},
   "outputs": [],
   "source": [
    "a= 'apple'# single quotes\n",
    "b= \"applejuice\" # double quotes\n",
    "c= '''this is example'''# triple quotes\n"
   ]
  },
  {
   "cell_type": "markdown",
   "metadata": {},
   "source": [
    "- str is immuteable\n",
    "- str is iterable \n",
    "- ,,,,,  indexed"
   ]
  },
  {
   "cell_type": "code",
   "execution_count": 4,
   "metadata": {},
   "outputs": [
    {
     "name": "stdout",
     "output_type": "stream",
     "text": [
      "a\n",
      "p\n",
      "e\n",
      "l\n"
     ]
    }
   ],
   "source": [
    "print(a[0])\n",
    "print(a[1])\n",
    "print(a[-1])\n",
    "print(a[-2])"
   ]
  },
  {
   "cell_type": "code",
   "execution_count": 14,
   "metadata": {},
   "outputs": [
    {
     "name": "stdout",
     "output_type": "stream",
     "text": [
      "deenanath\n",
      "vijay\n",
      "vijay deenanath chauhan\n",
      "chauhan\n",
      "vjydeaahcahn\n",
      "nahuahc htananeed yajiv\n"
     ]
    }
   ],
   "source": [
    "name= \"vijay deenanath chauhan\"\n",
    "print(name[6:15])\n",
    "print(name[0:5])\n",
    "print(name[:])\n",
    "print(name[16:23])\n",
    "print(name[:23:2])\n",
    "print(name[::-1])"
   ]
  },
  {
   "cell_type": "code",
   "execution_count": 10,
   "metadata": {},
   "outputs": [
    {
     "data": {
      "text/plain": [
       "23"
      ]
     },
     "execution_count": 10,
     "metadata": {},
     "output_type": "execute_result"
    }
   ],
   "source": [
    "len(name)"
   ]
  },
  {
   "cell_type": "code",
   "execution_count": 15,
   "metadata": {},
   "outputs": [
    {
     "data": {
      "text/plain": [
       "'nahua'"
      ]
     },
     "execution_count": 15,
     "metadata": {},
     "output_type": "execute_result"
    }
   ],
   "source": [
    "name[:][::-1][:5]"
   ]
  },
  {
   "cell_type": "code",
   "execution_count": 17,
   "metadata": {},
   "outputs": [
    {
     "data": {
      "text/plain": [
       "'brucewayne'"
      ]
     },
     "execution_count": 17,
     "metadata": {},
     "output_type": "execute_result"
    }
   ],
   "source": [
    "fname =\"bruce\"\n",
    "lname =\"wayne\"\n",
    "fname+lname   #concatenation"
   ]
  },
  {
   "cell_type": "code",
   "execution_count": 20,
   "metadata": {},
   "outputs": [
    {
     "data": {
      "text/plain": [
       "' python  python  python  python  python  python  python  python  python  python  python  python  python  python  python  python  python  python  python  python '"
      ]
     },
     "execution_count": 20,
     "metadata": {},
     "output_type": "execute_result"
    }
   ],
   "source": [
    "' python ' *20 # repetition"
   ]
  },
  {
   "cell_type": "code",
   "execution_count": 21,
   "metadata": {},
   "outputs": [
    {
     "data": {
      "text/plain": [
       "'Apple'"
      ]
     },
     "execution_count": 21,
     "metadata": {},
     "output_type": "execute_result"
    }
   ],
   "source": [
    "a.capitalize()"
   ]
  },
  {
   "cell_type": "markdown",
   "metadata": {},
   "source": [
    "- FIND AND REPLCE"
   ]
  },
  {
   "cell_type": "code",
   "execution_count": 27,
   "metadata": {},
   "outputs": [
    {
     "name": "stdout",
     "output_type": "stream",
     "text": [
      "4\n",
      "-1\n",
      "5\n",
      "21\n",
      "the queen went to the jungle \n",
      "the queen went to the jungle \n"
     ]
    }
   ],
   "source": [
    "sent= 'the king went to the jungle '\n",
    "print(sent.find('king'))\n",
    "print(sent.find('queen')) # -1 IF NOT FOUND\n",
    "print(sent.find('in'))\n",
    "print(sent.find('jun'))\n",
    "\n",
    "print(sent.replace('king','queen'))\n",
    "sent2= sent.replace('king','queen')\n",
    "print(sent2)"
   ]
  },
  {
   "cell_type": "code",
   "execution_count": 28,
   "metadata": {},
   "outputs": [
    {
     "data": {
      "text/plain": [
       "'tho king wont to tho junglo '"
      ]
     },
     "execution_count": 28,
     "metadata": {},
     "output_type": "execute_result"
    }
   ],
   "source": [
    "sent.replace('e' ,'o')"
   ]
  },
  {
   "cell_type": "code",
   "execution_count": 30,
   "metadata": {},
   "outputs": [
    {
     "name": "stdout",
     "output_type": "stream",
     "text": [
      "['twikle twinkle little star ,', ' how i wonder what yuo are.']\n",
      "['twikle', 'twinkle', 'little', 'star', ',', 'how', 'i', 'wonder', 'what', 'yuo', 'are.']\n",
      "['twikle twinkle little star ', '\\n how i wonder what yuo are.']\n"
     ]
    }
   ],
   "source": [
    "poem='''twikle twinkle little star ,\n",
    " how i wonder what yuo are.'''\n",
    "print(poem.splitlines())\n",
    "print(poem.split())\n",
    "print(poem.split(','))"
   ]
  },
  {
   "cell_type": "code",
   "execution_count": 31,
   "metadata": {},
   "outputs": [
    {
     "name": "stdout",
     "output_type": "stream",
     "text": [
      "c:/home/user/docs/file.text\n"
     ]
    }
   ],
   "source": [
    "path = ['c:', 'home', 'user', 'docs', 'file.text']\n",
    "\n",
    "print(\"/\" .join(path))"
   ]
  },
  {
   "cell_type": "code",
   "execution_count": null,
   "metadata": {},
   "outputs": [],
   "source": []
  }
 ],
 "metadata": {
  "kernelspec": {
   "display_name": "base",
   "language": "python",
   "name": "python3"
  },
  "language_info": {
   "codemirror_mode": {
    "name": "ipython",
    "version": 3
   },
   "file_extension": ".py",
   "mimetype": "text/x-python",
   "name": "python",
   "nbconvert_exporter": "python",
   "pygments_lexer": "ipython3",
   "version": "3.11.5"
  }
 },
 "nbformat": 4,
 "nbformat_minor": 2
}
