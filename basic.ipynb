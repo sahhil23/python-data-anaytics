{
 "cells": [
  {
   "cell_type": "markdown",
   "metadata": {},
   "source": [
    "1-OPERATORS\n"
   ]
  },
  {
   "cell_type": "code",
   "execution_count": 1,
   "metadata": {},
   "outputs": [
    {
     "data": {
      "text/plain": [
       "14"
      ]
     },
     "execution_count": 1,
     "metadata": {},
     "output_type": "execute_result"
    }
   ],
   "source": [
    "7+7"
   ]
  },
  {
   "cell_type": "code",
   "execution_count": 3,
   "metadata": {},
   "outputs": [],
   "source": [
    "name= \"sahil\"\n",
    "age=22\n",
    "can_vote= True"
   ]
  },
  {
   "cell_type": "code",
   "execution_count": 4,
   "metadata": {},
   "outputs": [],
   "source": [
    "a=5\n",
    "a+=40\n",
    "a-=5"
   ]
  },
  {
   "cell_type": "markdown",
   "metadata": {},
   "source": [
    "comparison operators"
   ]
  },
  {
   "cell_type": "code",
   "execution_count": 11,
   "metadata": {},
   "outputs": [
    {
     "name": "stdout",
     "output_type": "stream",
     "text": [
      "False\n",
      "True\n",
      "False\n",
      "True\n",
      "True\n",
      "False\n"
     ]
    }
   ],
   "source": [
    "a,b =10, 3\n",
    "print(a<b)\n",
    "print(a>b)\n",
    "print(a==b)\n",
    "print(a!=b)\n",
    "print(a>=b)\n",
    "print(a<=b)"
   ]
  },
  {
   "cell_type": "markdown",
   "metadata": {},
   "source": [
    "logical operators"
   ]
  },
  {
   "cell_type": "code",
   "execution_count": 15,
   "metadata": {},
   "outputs": [
    {
     "name": "stdout",
     "output_type": "stream",
     "text": [
      "False\n",
      "True\n",
      "False\n"
     ]
    }
   ],
   "source": [
    "x = 'apple'\n",
    "y = 'cherry'\n",
    "print(x==y)\n",
    "print(x=='apple'and x !=y)\n",
    "print( not x=='apple'and x ==y)"
   ]
  },
  {
   "cell_type": "code",
   "execution_count": 17,
   "metadata": {},
   "outputs": [
    {
     "data": {
      "text/plain": [
       "True"
      ]
     },
     "execution_count": 17,
     "metadata": {},
     "output_type": "execute_result"
    }
   ],
   "source": [
    "fruits=['mango','apple','orange'] # membership operators\n",
    "'mango' in fruits"
   ]
  },
  {
   "cell_type": "code",
   "execution_count": 24,
   "metadata": {},
   "outputs": [
    {
     "name": "stdout",
     "output_type": "stream",
     "text": [
      "principal 12000\n",
      "rate 5\n",
      "time 4\n",
      "smple intrst 2400.0\n",
      "ammount 14400.0\n"
     ]
    }
   ],
   "source": [
    "p=int(input(\"enter value\"))\n",
    "r=int(input(\"r o i\"))\n",
    "t=int(input(\"time\"))\n",
    "si=p*r*t/100\n",
    "print('principal',p)\n",
    "print('rate',r)\n",
    "print('time',t)\n",
    "print('smple intrst',si)\n",
    "a=p+si\n",
    "print('ammount',a)"
   ]
  },
  {
   "cell_type": "code",
   "execution_count": 25,
   "metadata": {},
   "outputs": [
    {
     "name": "stdout",
     "output_type": "stream",
     "text": [
      "your favourite city is allahabad\n"
     ]
    }
   ],
   "source": [
    "favcity=input(\"enter your favourite city:\")\n",
    "print(\"your favourite city is\",favcity)"
   ]
  },
  {
   "cell_type": "code",
   "execution_count": 4,
   "metadata": {},
   "outputs": [
    {
     "name": "stdout",
     "output_type": "stream",
     "text": [
      "lucknow sahil\n",
      "lucknow\n",
      "sahil\n",
      "sahil lives in lucknow\n",
      "sahil\n",
      "lucknow\n"
     ]
    }
   ],
   "source": [
    "name = \"sahil\"\n",
    "city = \"lucknow\"\n",
    "print(city,name)\n",
    "print(city)\n",
    "print(name)\n",
    "print(f'{name} lives in {city}')\n",
    "print(name , city, sep='\\n')"
   ]
  },
  {
   "cell_type": "markdown",
   "metadata": {},
   "source": [
    "CONDITIONS\n",
    "1.IF'\n",
    "\n",
    "2.IF ELSE'\n",
    "\n",
    "3.IF ELIF ELSE'\n",
    "\n",
    "4.MATCH CASE'"
   ]
  },
  {
   "cell_type": "code",
   "execution_count": 7,
   "metadata": {},
   "outputs": [
    {
     "name": "stdout",
     "output_type": "stream",
     "text": [
      "you prchsd itms for more than $200\n",
      "you get 10% dsc.\n",
      "total 360.0\n"
     ]
    }
   ],
   "source": [
    "qty=2\n",
    "price=200.00\n",
    "total=qty * price\n",
    "if total > 200:\n",
    "    print('you prchsd itms for more than $200')\n",
    "    print('you get 10% dsc.')\n",
    "    total=total * 0.9 \n",
    "print('total',total)    "
   ]
  },
  {
   "cell_type": "code",
   "execution_count": 10,
   "metadata": {},
   "outputs": [
    {
     "name": "stdout",
     "output_type": "stream",
     "text": [
      "odd num= 5\n"
     ]
    }
   ],
   "source": [
    "nmbr=int(input(\"enter a numbr\"))\n",
    "if nmbr % 2 == 0:\n",
    "    print(f'even number{nmbr}')\n",
    "else:\n",
    "    print(f'odd num= {nmbr}')"
   ]
  },
  {
   "cell_type": "code",
   "execution_count": 11,
   "metadata": {},
   "outputs": [
    {
     "name": "stdout",
     "output_type": "stream",
     "text": [
      "no one is greater\n"
     ]
    }
   ],
   "source": [
    "a=10\n",
    "b=20\n",
    "c=30\n",
    "if a>b:\n",
    "    print(\"a is greater than b\")\n",
    "elif a>c:\n",
    "    print(\"a is greater than c\")\n",
    "elif b<a:\n",
    "    print(\"b is greater than a\")\n",
    "elif c<a:\n",
    "    print(\"c is greater than a\")\n",
    "else:\n",
    "    print(\"no one is greater\")  \n",
    "\n"
   ]
  },
  {
   "cell_type": "code",
   "execution_count": 13,
   "metadata": {},
   "outputs": [
    {
     "name": "stdout",
     "output_type": "stream",
     "text": [
      "percentage 38.83333333333333%\n",
      "Fail\n"
     ]
    }
   ],
   "source": [
    "#if-elif-else\n",
    "\n",
    "marks= int(input(\"Enter your total marks you got:\"))\n",
    "total = 600\n",
    "percent = marks / total * 100\n",
    "print(f\"percentage {percent}%\")\n",
    "if percent >= 90:\n",
    "    print(\"Grade A+\")\n",
    "elif percent >= 80:\n",
    "    print(\"Grade A\")\n",
    "elif percent >= 70:\n",
    "    print(\"Grade B\")\n",
    "elif percent >= 60:\n",
    "    print(\"Grade C\")\n",
    "elif percent >=50:\n",
    "    print(\"Grade D\")\n",
    "else:\n",
    "    print(\"Fail\")"
   ]
  },
  {
   "cell_type": "code",
   "execution_count": 14,
   "metadata": {},
   "outputs": [
    {
     "name": "stdout",
     "output_type": "stream",
     "text": [
      "what is capital of uttrakhand\n",
      "a. dehradoon\n",
      "b. lucnow\n",
      "c. japan\n",
      "d. mumbai\n",
      "are bhai sahab kya kah rahe\n"
     ]
    }
   ],
   "source": [
    "print('what is capital of uttrakhand')\n",
    "print('a. dehradoon')\n",
    "print('b. lucnow')\n",
    "print('c. japan')\n",
    "print('d. mumbai')\n",
    "ans= input('enter option number')\n",
    "match ans:\n",
    "    case 'a':\n",
    "        print('right answer')\n",
    "    case 'b':\n",
    "        print('galat jawab')\n",
    "    case 'c':\n",
    "        print('apne kyu nahi padha')\n",
    "    case 'd':\n",
    "        print('are bhai sahab kya kah rahe')            \n"
   ]
  },
  {
   "cell_type": "code",
   "execution_count": null,
   "metadata": {},
   "outputs": [],
   "source": []
  }
 ],
 "metadata": {
  "kernelspec": {
   "display_name": "base",
   "language": "python",
   "name": "python3"
  },
  "language_info": {
   "codemirror_mode": {
    "name": "ipython",
    "version": 3
   },
   "file_extension": ".py",
   "mimetype": "text/x-python",
   "name": "python",
   "nbconvert_exporter": "python",
   "pygments_lexer": "ipython3",
   "version": "3.11.5"
  }
 },
 "nbformat": 4,
 "nbformat_minor": 2
}
